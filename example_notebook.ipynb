{
 "cells": [
  {
   "cell_type": "code",
   "execution_count": 2,
   "metadata": {
    "execution": {
     "iopub.execute_input": "2025-05-29T15:41:29.517631Z",
     "iopub.status.busy": "2025-05-29T15:41:29.517393Z",
     "iopub.status.idle": "2025-05-29T15:42:40.151479Z",
     "shell.execute_reply": "2025-05-29T15:42:40.150570Z",
     "shell.execute_reply.started": "2025-05-29T15:41:29.517614Z"
    },
    "trusted": true
   },
   "outputs": [
    {
     "name": "stdout",
     "output_type": "stream",
     "text": [
      "\u001b[2K   \u001b[90m━━━━━━━━━━━━━━━━━━━━━━━━━━━━━━━━━━━━━━━━\u001b[0m \u001b[32m363.4/363.4 MB\u001b[0m \u001b[31m3.9 MB/s\u001b[0m eta \u001b[36m0:00:00\u001b[0m0:00:01\u001b[0m00:01\u001b[0m\n",
      "\u001b[2K   \u001b[90m━━━━━━━━━━━━━━━━━━━━━━━━━━━━━━━━━━━━━━━━\u001b[0m \u001b[32m664.8/664.8 MB\u001b[0m \u001b[31m1.9 MB/s\u001b[0m eta \u001b[36m0:00:00\u001b[0m0:00:01\u001b[0m00:01\u001b[0m\n",
      "\u001b[2K   \u001b[90m━━━━━━━━━━━━━━━━━━━━━━━━━━━━━━━━━━━━━━━━\u001b[0m \u001b[32m211.5/211.5 MB\u001b[0m \u001b[31m8.0 MB/s\u001b[0m eta \u001b[36m0:00:00\u001b[0m0:00:01\u001b[0m00:01\u001b[0m\n",
      "\u001b[2K   \u001b[90m━━━━━━━━━━━━━━━━━━━━━━━━━━━━━━━━━━━━━━━━\u001b[0m \u001b[32m56.3/56.3 MB\u001b[0m \u001b[31m31.4 MB/s\u001b[0m eta \u001b[36m0:00:00\u001b[0m:00:01\u001b[0m00:01\u001b[0m\n",
      "\u001b[2K   \u001b[90m━━━━━━━━━━━━━━━━━━━━━━━━━━━━━━━━━━━━━━━━\u001b[0m \u001b[32m127.9/127.9 MB\u001b[0m \u001b[31m13.5 MB/s\u001b[0m eta \u001b[36m0:00:00\u001b[0m:00:01\u001b[0m00:01\u001b[0m\n",
      "\u001b[2K   \u001b[90m━━━━━━━━━━━━━━━━━━━━━━━━━━━━━━━━━━━━━━━━\u001b[0m \u001b[32m207.5/207.5 MB\u001b[0m \u001b[31m8.2 MB/s\u001b[0m eta \u001b[36m0:00:00\u001b[0m0:00:01\u001b[0m00:01\u001b[0m\n",
      "\u001b[2K   \u001b[90m━━━━━━━━━━━━━━━━━━━━━━━━━━━━━━━━━━━━━━━━\u001b[0m \u001b[32m21.1/21.1 MB\u001b[0m \u001b[31m74.5 MB/s\u001b[0m eta \u001b[36m0:00:00\u001b[0m:00:01\u001b[0m00:01\u001b[0m\n",
      "\u001b[?25h"
     ]
    }
   ],
   "source": [
    "!pip install accelerate --quiet\n",
    "from kaggle_secrets import UserSecretsClient\n",
    "user_secrets = UserSecretsClient()\n",
    "secret_value_0 = user_secrets.get_secret(\"huggingface_key\")\n",
    "\n",
    "from huggingface_hub import login\n",
    "login(token=secret_value_0)"
   ]
  },
  {
   "cell_type": "code",
   "execution_count": 3,
   "metadata": {
    "execution": {
     "iopub.execute_input": "2025-05-29T15:42:40.153725Z",
     "iopub.status.busy": "2025-05-29T15:42:40.153118Z",
     "iopub.status.idle": "2025-05-29T15:43:56.124011Z",
     "shell.execute_reply": "2025-05-29T15:43:56.123205Z",
     "shell.execute_reply.started": "2025-05-29T15:42:40.153698Z"
    },
    "trusted": true
   },
   "outputs": [
    {
     "name": "stderr",
     "output_type": "stream",
     "text": [
      "2025-05-29 15:42:49.403483: E external/local_xla/xla/stream_executor/cuda/cuda_fft.cc:477] Unable to register cuFFT factory: Attempting to register factory for plugin cuFFT when one has already been registered\n",
      "WARNING: All log messages before absl::InitializeLog() is called are written to STDERR\n",
      "E0000 00:00:1748533369.597862      35 cuda_dnn.cc:8310] Unable to register cuDNN factory: Attempting to register factory for plugin cuDNN when one has already been registered\n",
      "E0000 00:00:1748533369.652810      35 cuda_blas.cc:1418] Unable to register cuBLAS factory: Attempting to register factory for plugin cuBLAS when one has already been registered\n"
     ]
    },
    {
     "data": {
      "application/vnd.jupyter.widget-view+json": {
       "model_id": "63998d5615764a84a2d8d7136e7f1f47",
       "version_major": 2,
       "version_minor": 0
      },
      "text/plain": [
       "config.json:   0%|          | 0.00/855 [00:00<?, ?B/s]"
      ]
     },
     "metadata": {},
     "output_type": "display_data"
    },
    {
     "data": {
      "application/vnd.jupyter.widget-view+json": {
       "model_id": "aa3cd138a2a8486796afbdff9d5fc525",
       "version_major": 2,
       "version_minor": 0
      },
      "text/plain": [
       "model.safetensors.index.json:   0%|          | 0.00/90.6k [00:00<?, ?B/s]"
      ]
     },
     "metadata": {},
     "output_type": "display_data"
    },
    {
     "data": {
      "application/vnd.jupyter.widget-view+json": {
       "model_id": "9d9a6f80bc7c46aa8cee79096e359255",
       "version_major": 2,
       "version_minor": 0
      },
      "text/plain": [
       "Fetching 2 files:   0%|          | 0/2 [00:00<?, ?it/s]"
      ]
     },
     "metadata": {},
     "output_type": "display_data"
    },
    {
     "data": {
      "application/vnd.jupyter.widget-view+json": {
       "model_id": "79aa37d932d349318cc319869866f365",
       "version_major": 2,
       "version_minor": 0
      },
      "text/plain": [
       "model-00001-of-00002.safetensors:   0%|          | 0.00/4.96G [00:00<?, ?B/s]"
      ]
     },
     "metadata": {},
     "output_type": "display_data"
    },
    {
     "data": {
      "application/vnd.jupyter.widget-view+json": {
       "model_id": "bdcafdf91c7646139d9545c25332f349",
       "version_major": 2,
       "version_minor": 0
      },
      "text/plain": [
       "model-00002-of-00002.safetensors:   0%|          | 0.00/3.64G [00:00<?, ?B/s]"
      ]
     },
     "metadata": {},
     "output_type": "display_data"
    },
    {
     "data": {
      "application/vnd.jupyter.widget-view+json": {
       "model_id": "8f607da6f62f4577bd6be1e63afd2471",
       "version_major": 2,
       "version_minor": 0
      },
      "text/plain": [
       "Loading checkpoint shards:   0%|          | 0/2 [00:00<?, ?it/s]"
      ]
     },
     "metadata": {},
     "output_type": "display_data"
    },
    {
     "data": {
      "application/vnd.jupyter.widget-view+json": {
       "model_id": "15cc77d7ee944e0ca4d1c0261836312e",
       "version_major": 2,
       "version_minor": 0
      },
      "text/plain": [
       "generation_config.json:   0%|          | 0.00/215 [00:00<?, ?B/s]"
      ]
     },
     "metadata": {},
     "output_type": "display_data"
    },
    {
     "data": {
      "application/vnd.jupyter.widget-view+json": {
       "model_id": "75a8fb4349a14494bd92663ec0012ef3",
       "version_major": 2,
       "version_minor": 0
      },
      "text/plain": [
       "processor_config.json:   0%|          | 0.00/70.0 [00:00<?, ?B/s]"
      ]
     },
     "metadata": {},
     "output_type": "display_data"
    },
    {
     "data": {
      "application/vnd.jupyter.widget-view+json": {
       "model_id": "94730b139b7e44c6a1c3fb593c88e2ba",
       "version_major": 2,
       "version_minor": 0
      },
      "text/plain": [
       "chat_template.json:   0%|          | 0.00/1.61k [00:00<?, ?B/s]"
      ]
     },
     "metadata": {},
     "output_type": "display_data"
    },
    {
     "data": {
      "application/vnd.jupyter.widget-view+json": {
       "model_id": "3041a1203dfd40c99a6c8fc04caeffac",
       "version_major": 2,
       "version_minor": 0
      },
      "text/plain": [
       "preprocessor_config.json:   0%|          | 0.00/570 [00:00<?, ?B/s]"
      ]
     },
     "metadata": {},
     "output_type": "display_data"
    },
    {
     "name": "stderr",
     "output_type": "stream",
     "text": [
      "Using a slow image processor as `use_fast` is unset and a slow processor was saved with this model. `use_fast=True` will be the default behavior in v4.52, even if the model was saved with a slow processor. This will result in minor differences in outputs. You'll still be able to use a slow processor with `use_fast=False`.\n"
     ]
    },
    {
     "data": {
      "application/vnd.jupyter.widget-view+json": {
       "model_id": "668e270583d64c0cb305ce3f5d1c63af",
       "version_major": 2,
       "version_minor": 0
      },
      "text/plain": [
       "tokenizer_config.json:   0%|          | 0.00/1.16M [00:00<?, ?B/s]"
      ]
     },
     "metadata": {},
     "output_type": "display_data"
    },
    {
     "data": {
      "application/vnd.jupyter.widget-view+json": {
       "model_id": "c859f1b2f0e7432ebfa560410bc10d94",
       "version_major": 2,
       "version_minor": 0
      },
      "text/plain": [
       "tokenizer.model:   0%|          | 0.00/4.69M [00:00<?, ?B/s]"
      ]
     },
     "metadata": {},
     "output_type": "display_data"
    },
    {
     "data": {
      "application/vnd.jupyter.widget-view+json": {
       "model_id": "362d6bbd69ec4b1fa510a495feb9a277",
       "version_major": 2,
       "version_minor": 0
      },
      "text/plain": [
       "tokenizer.json:   0%|          | 0.00/33.4M [00:00<?, ?B/s]"
      ]
     },
     "metadata": {},
     "output_type": "display_data"
    },
    {
     "data": {
      "application/vnd.jupyter.widget-view+json": {
       "model_id": "72e11bb309ee4e42a7a2c4ab208700c9",
       "version_major": 2,
       "version_minor": 0
      },
      "text/plain": [
       "added_tokens.json:   0%|          | 0.00/35.0 [00:00<?, ?B/s]"
      ]
     },
     "metadata": {},
     "output_type": "display_data"
    },
    {
     "data": {
      "application/vnd.jupyter.widget-view+json": {
       "model_id": "ff32c2fa9ff049f5b4fd0435a2a8ddfa",
       "version_major": 2,
       "version_minor": 0
      },
      "text/plain": [
       "special_tokens_map.json:   0%|          | 0.00/662 [00:00<?, ?B/s]"
      ]
     },
     "metadata": {},
     "output_type": "display_data"
    }
   ],
   "source": [
    "from transformers import AutoProcessor, Gemma3ForConditionalGeneration\n",
    "from PIL import Image\n",
    "import requests\n",
    "import torch\n",
    "\n",
    "model_id = \"google/gemma-3-4b-it\"\n",
    "\n",
    "model = Gemma3ForConditionalGeneration.from_pretrained(\n",
    "    model_id, device_map=\"auto\"\n",
    ").eval()\n",
    "\n",
    "processor = AutoProcessor.from_pretrained(model_id)"
   ]
  },
  {
   "cell_type": "code",
   "execution_count": 4,
   "metadata": {
    "execution": {
     "iopub.execute_input": "2025-05-29T15:43:56.125518Z",
     "iopub.status.busy": "2025-05-29T15:43:56.124905Z",
     "iopub.status.idle": "2025-05-29T15:43:56.270464Z",
     "shell.execute_reply": "2025-05-29T15:43:56.269755Z",
     "shell.execute_reply.started": "2025-05-29T15:43:56.125496Z"
    },
    "trusted": true
   },
   "outputs": [],
   "source": [
    "recipes = {\n",
    "    \"sweet green dome\": {\n",
    "        \"file\": \"Swedish Princess Cake Prinsesstrta Recipe.jpg\",\n",
    "        \"instruction\": (\n",
    "            \"• **Make Custard**: Whisk sugar, cornstarch, milk, and yolks over heat until thickened; strain and chill 3 to 4 hours.\\n\"\n",
    "            \"• **Layer Cake**: Bake sponge layers at 350°F for 20 to 22 min, cool, and split. Layer with raspberry jam and pastry cream.\\n\"\n",
    "            \"• **Decorate Dome**: Pipe whipped cream in a dome, drape marzipan circle over, dust with sugar, and garnish with raspberries.\"\n",
    "        )\n",
    "    },\n",
    "    \"creamy pink layer\": {\n",
    "        \"file\": \"Judys Strawberry Pretzel Salad Recipe.jpg\",\n",
    "        \"instruction\": (\n",
    "            \"• **Bake Crust**: Preheat oven to 350°F. Mix crushed pretzels, melted butter, and sugar; press into a 9×13-inch pan and bake 10 min.\\n\"\n",
    "            \"• **Add Filling**: Beat cream cheese with sugar, fold in whipped topping, spread over cooled crust, and chill 30 min.\\n\"\n",
    "            \"• **Top & Set**: Dissolve Jell-O in boiling water, stir in frozen strawberries until thawed, pour over cream cheese layer, and refrigerate at least 1 hour.\"\n",
    "        )\n",
    "    },\n",
    "    \"spiced shred stack\": {\n",
    "        \"file\": \"Pulled Chicken Shawarma Sandwich Recipe.jpg\",\n",
    "        \"instruction\": (\n",
    "            \"• **Cook Chicken**: Combine shawarma spices in water with garlic and onion; simmer whole chicken for 1 hour, turning every 20 min. Cool, shred meat, reserve broth.\\n\"\n",
    "            \"• **Reduce Broth**: Add bones back with water, simmer 1–2 hours, strain, and reduce broth by half.\\n\"\n",
    "            \"• **Finish & Serve**: Return shredded chicken to broth, cook until saucy, season with lemon juice and extra spices. Serve in bread or wraps.\"\n",
    "        )\n",
    "    },\n",
    "    \"veggie garden layers\": {\n",
    "        \"file\": \"Veggie Pizza Recipe.jpg\",\n",
    "        \"instruction\": (\n",
    "            \"• **Bake Base**: Preheat oven to 350°F, spray a 15×10-inch pan, press crescent roll dough into pan, bake 10 min, and cool.\\n\"\n",
    "            \"• **Spread Cream**: Whip sour cream, cream cheese, ranch mix, dill, and garlic salt; spread over crust.\\n\"\n",
    "            \"• **Top & Chill**: Arrange broccoli, radish, onion, bell pepper, carrot, and celery; chill 1–2 hours, then cut into squares.\"\n",
    "        )\n",
    "    },\n",
    "    \"charred sea pops\": {\n",
    "        \"file\": \"Spicy Grilled Shrimp Recipe.jpg\",\n",
    "        \"instruction\": (\n",
    "            \"• **Make Paste**: Preheat grill to medium. Crush garlic and salt, stir in paprika, cayenne, olive oil, and lemon juice to form a paste.\\n\"\n",
    "            \"• **Grill Shrimp**: Toss shrimp with paste. Oil grill grate lightly, grill shrimp 2–3 min per side until opaque.\\n\"\n",
    "            \"• **Serve Fresh**: Serve with lemon wedges.\"\n",
    "        )\n",
    "    },\n",
    "    \"folded veggie bundle\": {\n",
    "        \"file\": \"California Club Chicken Wraps Recipe.jpg\",\n",
    "        \"instruction\": (\n",
    "            \"• **Make Spread**: Whisk mayonnaise, yogurt, and chipotle chiles. Microwave tortillas for 30 sec to warm.\\n\"\n",
    "            \"• **Assemble Wrap**: Spread chipotle mayo down center, top with lettuce, cheese, avocado, bacon, onion, tomato, and chicken.\\n\"\n",
    "            \"• **Roll & Serve**: Fold opposing edges over filling and roll into a tight wrap.\"\n",
    "        )\n",
    "    },\n",
    "    \"layered olive loaf\": {\n",
    "        \"file\": \"Real Nawlins Muffuletta Recipe.jpg\",\n",
    "        \"instruction\": (\n",
    "            \"• **Prep Salad**: Chop olives, pepperoncini, cauliflower, cocktail onions, garlic, capers, celery, and carrot; mix with oregano, basil, pepper, celery seed, oils, and vinegar. Refrigerate covered 8 hours or overnight.\\n\"\n",
    "            \"• **Assemble Loaf**: Halve Italian loaves, hollow centers, spread olive salad on both halves.\\n\"\n",
    "            \"• **Layer & Slice**: Layer salami, ham, mortadella, mozzarella, and provolone; reassemble loaf and slice into quarters.\"\n",
    "        )\n",
    "    },\n",
    "    \"poppy crunch tube\": {\n",
    "        \"file\": \"Chicago-Style Hot Dog Recipe.jpg\",\n",
    "        \"instruction\": (\n",
    "            \"• **Cook Dog**: Poach hot dog in simmering water 5 min, steam poppy-seed bun 2 min.\\n\"\n",
    "            \"• **Add Toppings**: Place dog in bun, layer mustard, relish, onion, tomato wedges, pickle spear, sport peppers.\\n\"\n",
    "            \"• **Finish Up**: Sprinkle celery salt on top—no ketchup.\"\n",
    "        )\n",
    "    },\n",
    "    \"spiced beef bun\": {\n",
    "        \"file\": \"Tex-Mex Burger with Cajun Mayo Recipe.jpg\",\n",
    "        \"instruction\": (\n",
    "            \"• **Prep Grill & Sauce**: Preheat grill to medium-high, oil grate. Mix mayo with 1 tsp Cajun seasoning; set aside.\\n\"\n",
    "            \"• **Make Patties**: Combine beef, onion, 3 tsp seasoning, jalapeño, garlic, and Worcestershire; form patties.\\n\"\n",
    "            \"• **Grill & Build**: Grill 5 min per side, top with cheese in last 2 min. Spread Cajun mayo on buns, add burger, lettuce, and tomato.\"\n",
    "        )\n",
    "    },\n",
    "    \"cheesy wheel\": {\n",
    "        \"file\": \"Campfire Pepperoni Pizza Recipe.jpg\",\n",
    "        \"instruction\": (\n",
    "            \"• **Prep Fire & Dough**: Place pizza stone on grill over wood fire. Roll dough to thickness.\\n\"\n",
    "            \"• **Cook Pizza**: Cook one side 10 min, flip, spread sauce, cheese, and pepperoni. Tent with foil and cook until cheese melts (~10 min).\\n\"\n",
    "            \"• **Serve Slices**: Cool slightly, slice, and serve.\"\n",
    "        )\n",
    "    }\n",
    "}\n",
    "\n",
    "\n",
    "image_dir = '/kaggle/input/recipie-high-res/recipes_images'\n",
    "messages = []\n",
    "\n",
    "messages.append({\n",
    "    \"role\": \"system\",\n",
    "    \"content\": [{\n",
    "        \"type\": \"text\",\n",
    "        \"text\": \"You are a multimodal AI assistant specialized in cooking and recipe understanding. Your task is to generate concise cooking instructions (2–3 steps) from a food image and a noisy or vague dish title. Use your understanding of food preparation, ingredients, and cooking processes to infer what the dish likely is and how it is made, even when the input title is unclear or imprecise. Your response must be in point form, with each step beginning with a single-word heading (e.g., Chop, Mix, Fry), followed by a short, clear instruction. Use natural, human-like language and mimic the style of human-written summaries using few-shot examples provided. Ensure the instructions are practical, safe, and accurate for preparing the inferred dish. Prioritize clarity, brevity, and relevance. Do not include exotic or unsafe steps.\"\n",
    "    }]\n",
    "})\n",
    "\n",
    "for vague_title, data in recipes.items():\n",
    "    img = Image.open(f\"{image_dir}/{data['file']}\")\n",
    "    messages.append({\n",
    "        \"role\": \"user\",\n",
    "        \"content\": [\n",
    "            {\"type\": \"image\", \"image\": img},\n",
    "            {\"type\": \"text\", \"text\": f'Vague Title: \"{vague_title}\"\\nInstruction:'}\n",
    "        ]\n",
    "    })\n",
    "    messages.append({\n",
    "        \"role\": \"assistant\",\n",
    "        \"content\": [\n",
    "            {\"type\": \"text\", \"text\": data['instruction']}\n",
    "        ]\n",
    "    })"
   ]
  },
  {
   "cell_type": "markdown",
   "metadata": {},
   "source": [
    "# Final Prompt Structure"
   ]
  },
  {
   "cell_type": "code",
   "execution_count": 5,
   "metadata": {
    "execution": {
     "iopub.execute_input": "2025-05-29T15:43:56.272444Z",
     "iopub.status.busy": "2025-05-29T15:43:56.272252Z",
     "iopub.status.idle": "2025-05-29T15:43:56.279434Z",
     "shell.execute_reply": "2025-05-29T15:43:56.278843Z",
     "shell.execute_reply.started": "2025-05-29T15:43:56.272429Z"
    },
    "trusted": true
   },
   "outputs": [
    {
     "data": {
      "text/plain": [
       "[{'role': 'system',\n",
       "  'content': [{'type': 'text',\n",
       "    'text': 'You are a multimodal AI assistant specialized in cooking and recipe understanding. Your task is to generate concise cooking instructions (2–3 steps) from a food image and a noisy or vague dish title. Use your understanding of food preparation, ingredients, and cooking processes to infer what the dish likely is and how it is made, even when the input title is unclear or imprecise. Your response must be in point form, with each step beginning with a single-word heading (e.g., Chop, Mix, Fry), followed by a short, clear instruction. Use natural, human-like language and mimic the style of human-written summaries using few-shot examples provided. Ensure the instructions are practical, safe, and accurate for preparing the inferred dish. Prioritize clarity, brevity, and relevance. Do not include exotic or unsafe steps.'}]},\n",
       " {'role': 'user',\n",
       "  'content': [{'type': 'image',\n",
       "    'image': <PIL.JpegImagePlugin.JpegImageFile image mode=RGB size=870x870>},\n",
       "   {'type': 'text', 'text': 'Vague Title: \"sweet green dome\"\\nInstruction:'}]},\n",
       " {'role': 'assistant',\n",
       "  'content': [{'type': 'text',\n",
       "    'text': '• **Make Custard**: Whisk sugar, cornstarch, milk, and yolks over heat until thickened; strain and chill 3 to 4 hours.\\n• **Layer Cake**: Bake sponge layers at 350°F for 20 to 22 min, cool, and split. Layer with raspberry jam and pastry cream.\\n• **Decorate Dome**: Pipe whipped cream in a dome, drape marzipan circle over, dust with sugar, and garnish with raspberries.'}]},\n",
       " {'role': 'user',\n",
       "  'content': [{'type': 'image',\n",
       "    'image': <PIL.JpegImagePlugin.JpegImageFile image mode=RGB size=1500x750>},\n",
       "   {'type': 'text',\n",
       "    'text': 'Vague Title: \"creamy pink layer\"\\nInstruction:'}]},\n",
       " {'role': 'assistant',\n",
       "  'content': [{'type': 'text',\n",
       "    'text': '• **Bake Crust**: Preheat oven to 350°F. Mix crushed pretzels, melted butter, and sugar; press into a 9×13-inch pan and bake 10 min.\\n• **Add Filling**: Beat cream cheese with sugar, fold in whipped topping, spread over cooled crust, and chill 30 min.\\n• **Top & Set**: Dissolve Jell-O in boiling water, stir in frozen strawberries until thawed, pour over cream cheese layer, and refrigerate at least 1 hour.'}]},\n",
       " {'role': 'user',\n",
       "  'content': [{'type': 'image',\n",
       "    'image': <PIL.JpegImagePlugin.JpegImageFile image mode=RGB size=1500x750>},\n",
       "   {'type': 'text',\n",
       "    'text': 'Vague Title: \"spiced shred stack\"\\nInstruction:'}]},\n",
       " {'role': 'assistant',\n",
       "  'content': [{'type': 'text',\n",
       "    'text': '• **Cook Chicken**: Combine shawarma spices in water with garlic and onion; simmer whole chicken for 1 hour, turning every 20 min. Cool, shred meat, reserve broth.\\n• **Reduce Broth**: Add bones back with water, simmer 1–2 hours, strain, and reduce broth by half.\\n• **Finish & Serve**: Return shredded chicken to broth, cook until saucy, season with lemon juice and extra spices. Serve in bread or wraps.'}]},\n",
       " {'role': 'user',\n",
       "  'content': [{'type': 'image',\n",
       "    'image': <PIL.JpegImagePlugin.JpegImageFile image mode=RGB size=1500x750>},\n",
       "   {'type': 'text',\n",
       "    'text': 'Vague Title: \"veggie garden layers\"\\nInstruction:'}]},\n",
       " {'role': 'assistant',\n",
       "  'content': [{'type': 'text',\n",
       "    'text': '• **Bake Base**: Preheat oven to 350°F, spray a 15×10-inch pan, press crescent roll dough into pan, bake 10 min, and cool.\\n• **Spread Cream**: Whip sour cream, cream cheese, ranch mix, dill, and garlic salt; spread over crust.\\n• **Top & Chill**: Arrange broccoli, radish, onion, bell pepper, carrot, and celery; chill 1–2 hours, then cut into squares.'}]},\n",
       " {'role': 'user',\n",
       "  'content': [{'type': 'image',\n",
       "    'image': <PIL.JpegImagePlugin.JpegImageFile image mode=RGB size=1500x750>},\n",
       "   {'type': 'text', 'text': 'Vague Title: \"charred sea pops\"\\nInstruction:'}]},\n",
       " {'role': 'assistant',\n",
       "  'content': [{'type': 'text',\n",
       "    'text': '• **Make Paste**: Preheat grill to medium. Crush garlic and salt, stir in paprika, cayenne, olive oil, and lemon juice to form a paste.\\n• **Grill Shrimp**: Toss shrimp with paste. Oil grill grate lightly, grill shrimp 2–3 min per side until opaque.\\n• **Serve Fresh**: Serve with lemon wedges.'}]},\n",
       " {'role': 'user',\n",
       "  'content': [{'type': 'image',\n",
       "    'image': <PIL.JpegImagePlugin.JpegImageFile image mode=RGB size=960x960>},\n",
       "   {'type': 'text',\n",
       "    'text': 'Vague Title: \"folded veggie bundle\"\\nInstruction:'}]},\n",
       " {'role': 'assistant',\n",
       "  'content': [{'type': 'text',\n",
       "    'text': '• **Make Spread**: Whisk mayonnaise, yogurt, and chipotle chiles. Microwave tortillas for 30 sec to warm.\\n• **Assemble Wrap**: Spread chipotle mayo down center, top with lettuce, cheese, avocado, bacon, onion, tomato, and chicken.\\n• **Roll & Serve**: Fold opposing edges over filling and roll into a tight wrap.'}]},\n",
       " {'role': 'user',\n",
       "  'content': [{'type': 'image',\n",
       "    'image': <PIL.JpegImagePlugin.JpegImageFile image mode=RGB size=1500x1125>},\n",
       "   {'type': 'text',\n",
       "    'text': 'Vague Title: \"layered olive loaf\"\\nInstruction:'}]},\n",
       " {'role': 'assistant',\n",
       "  'content': [{'type': 'text',\n",
       "    'text': '• **Prep Salad**: Chop olives, pepperoncini, cauliflower, cocktail onions, garlic, capers, celery, and carrot; mix with oregano, basil, pepper, celery seed, oils, and vinegar. Refrigerate covered 8 hours or overnight.\\n• **Assemble Loaf**: Halve Italian loaves, hollow centers, spread olive salad on both halves.\\n• **Layer & Slice**: Layer salami, ham, mortadella, mozzarella, and provolone; reassemble loaf and slice into quarters.'}]},\n",
       " {'role': 'user',\n",
       "  'content': [{'type': 'image',\n",
       "    'image': <PIL.JpegImagePlugin.JpegImageFile image mode=RGB size=1500x1125>},\n",
       "   {'type': 'text',\n",
       "    'text': 'Vague Title: \"poppy crunch tube\"\\nInstruction:'}]},\n",
       " {'role': 'assistant',\n",
       "  'content': [{'type': 'text',\n",
       "    'text': '• **Cook Dog**: Poach hot dog in simmering water 5 min, steam poppy-seed bun 2 min.\\n• **Add Toppings**: Place dog in bun, layer mustard, relish, onion, tomato wedges, pickle spear, sport peppers.\\n• **Finish Up**: Sprinkle celery salt on top—no ketchup.'}]},\n",
       " {'role': 'user',\n",
       "  'content': [{'type': 'image',\n",
       "    'image': <PIL.JpegImagePlugin.JpegImageFile image mode=RGB size=960x960>},\n",
       "   {'type': 'text', 'text': 'Vague Title: \"spiced beef bun\"\\nInstruction:'}]},\n",
       " {'role': 'assistant',\n",
       "  'content': [{'type': 'text',\n",
       "    'text': '• **Prep Grill & Sauce**: Preheat grill to medium-high, oil grate. Mix mayo with 1 tsp Cajun seasoning; set aside.\\n• **Make Patties**: Combine beef, onion, 3 tsp seasoning, jalapeño, garlic, and Worcestershire; form patties.\\n• **Grill & Build**: Grill 5 min per side, top with cheese in last 2 min. Spread Cajun mayo on buns, add burger, lettuce, and tomato.'}]},\n",
       " {'role': 'user',\n",
       "  'content': [{'type': 'image',\n",
       "    'image': <PIL.JpegImagePlugin.JpegImageFile image mode=RGB size=960x960>},\n",
       "   {'type': 'text', 'text': 'Vague Title: \"cheesy wheel\"\\nInstruction:'}]},\n",
       " {'role': 'assistant',\n",
       "  'content': [{'type': 'text',\n",
       "    'text': '• **Prep Fire & Dough**: Place pizza stone on grill over wood fire. Roll dough to thickness.\\n• **Cook Pizza**: Cook one side 10 min, flip, spread sauce, cheese, and pepperoni. Tent with foil and cook until cheese melts (~10 min).\\n• **Serve Slices**: Cool slightly, slice, and serve.'}]}]"
      ]
     },
     "execution_count": 5,
     "metadata": {},
     "output_type": "execute_result"
    }
   ],
   "source": [
    "messages"
   ]
  },
  {
   "cell_type": "markdown",
   "metadata": {},
   "source": [
    "# Example 1"
   ]
  },
  {
   "cell_type": "code",
   "execution_count": 6,
   "metadata": {
    "execution": {
     "iopub.execute_input": "2025-05-29T15:43:56.280291Z",
     "iopub.status.busy": "2025-05-29T15:43:56.280017Z",
     "iopub.status.idle": "2025-05-29T15:43:56.302484Z",
     "shell.execute_reply": "2025-05-29T15:43:56.301840Z",
     "shell.execute_reply.started": "2025-05-29T15:43:56.280266Z"
    },
    "trusted": true
   },
   "outputs": [],
   "source": [
    "test_image_path = f\"{image_dir}/Dads Creamy Cucumber Salad Recipe.jpg\"\n",
    "test_vague_title = \"chilled green slices\"\n",
    "messages_curr = messages.copy()\n",
    "test_img = Image.open(test_image_path)\n",
    "messages_curr.append({\n",
    "    \"role\": \"user\",\n",
    "    \"content\": [\n",
    "        {\"type\": \"image\", \"image\": test_img},\n",
    "        {\"type\": \"text\", \"text\": f'Vague Title: \"{test_vague_title}\"\\nInstruction:'}\n",
    "    ]\n",
    "})"
   ]
  },
  {
   "cell_type": "code",
   "execution_count": 7,
   "metadata": {
    "execution": {
     "iopub.execute_input": "2025-05-29T15:43:56.303627Z",
     "iopub.status.busy": "2025-05-29T15:43:56.303375Z",
     "iopub.status.idle": "2025-05-29T15:44:32.613990Z",
     "shell.execute_reply": "2025-05-29T15:44:32.613350Z",
     "shell.execute_reply.started": "2025-05-29T15:43:56.303607Z"
    },
    "trusted": true
   },
   "outputs": [
    {
     "name": "stdout",
     "output_type": "stream",
     "text": [
      "• **Slice Cucumbers**: Slice cucumbers into ¼-inch thick rounds.\n",
      "• **Make Dressing**: Whisk together yogurt, lemon juice, dill, salt, and pepper.\n",
      "• **Combine & Chill**: Gently toss cucumbers with dressing, cover, and refrigerate 30 min before serving.\n"
     ]
    }
   ],
   "source": [
    "inputs = processor.apply_chat_template(\n",
    "    messages_curr, add_generation_prompt=True, tokenize=True,\n",
    "    return_dict=True, return_tensors=\"pt\"\n",
    ").to(model.device, dtype=torch.bfloat16)\n",
    "\n",
    "input_len = inputs[\"input_ids\"].shape[-1]\n",
    "\n",
    "with torch.inference_mode():\n",
    "    generation = model.generate(**inputs, max_new_tokens=1000, do_sample=True, top_p=0.8, top_k=45)\n",
    "    generation = generation[0][input_len:]\n",
    "\n",
    "decoded = processor.decode(generation, skip_special_tokens=True)\n",
    "print(decoded)"
   ]
  },
  {
   "cell_type": "markdown",
   "metadata": {},
   "source": [
    "# Example 2"
   ]
  },
  {
   "cell_type": "code",
   "execution_count": 8,
   "metadata": {
    "execution": {
     "iopub.execute_input": "2025-05-29T15:44:32.614966Z",
     "iopub.status.busy": "2025-05-29T15:44:32.614720Z",
     "iopub.status.idle": "2025-05-29T15:44:32.624849Z",
     "shell.execute_reply": "2025-05-29T15:44:32.624331Z",
     "shell.execute_reply.started": "2025-05-29T15:44:32.614937Z"
    },
    "trusted": true
   },
   "outputs": [],
   "source": [
    "test_image_path = f\"{image_dir}/Bang Bang Chicken Casserole Recipe.jpg\"\n",
    "test_vague_title = \"saucy rice bed\"\n",
    "messages_curr = messages.copy()\n",
    "test_img = Image.open(test_image_path)\n",
    "messages_curr.append({\n",
    "    \"role\": \"user\",\n",
    "    \"content\": [\n",
    "        {\"type\": \"image\", \"image\": test_img},\n",
    "        {\"type\": \"text\", \"text\": f'Vague Title: \"{test_vague_title}\"\\nInstruction:'}\n",
    "    ]\n",
    "})"
   ]
  },
  {
   "cell_type": "code",
   "execution_count": 9,
   "metadata": {
    "execution": {
     "iopub.execute_input": "2025-05-29T15:44:32.625873Z",
     "iopub.status.busy": "2025-05-29T15:44:32.625633Z",
     "iopub.status.idle": "2025-05-29T15:45:10.709226Z",
     "shell.execute_reply": "2025-05-29T15:45:10.708414Z",
     "shell.execute_reply.started": "2025-05-29T15:44:32.625852Z"
    },
    "trusted": true
   },
   "outputs": [
    {
     "name": "stdout",
     "output_type": "stream",
     "text": [
      "• **Cook Chicken**: Dice chicken and cook in a skillet with soy sauce, ginger, and garlic until browned.\n",
      "• **Layer Rice**: Layer cooked rice in a skillet, top with chicken and sauce.\n",
      "• **Bake & Top**: Bake at 375°F (190°C) for 15 minutes, sprinkle with sesame seeds and green onions.\n"
     ]
    }
   ],
   "source": [
    "inputs = processor.apply_chat_template(\n",
    "    messages_curr, add_generation_prompt=True, tokenize=True,\n",
    "    return_dict=True, return_tensors=\"pt\"\n",
    ").to(model.device, dtype=torch.bfloat16)\n",
    "\n",
    "input_len = inputs[\"input_ids\"].shape[-1]\n",
    "\n",
    "with torch.inference_mode():\n",
    "    generation = model.generate(**inputs, max_new_tokens=1000, do_sample=True, top_p=0.8, top_k=45)\n",
    "    generation = generation[0][input_len:]\n",
    "\n",
    "decoded = processor.decode(generation, skip_special_tokens=True)\n",
    "print(decoded)"
   ]
  },
  {
   "cell_type": "markdown",
   "metadata": {},
   "source": [
    "# Example 3"
   ]
  },
  {
   "cell_type": "code",
   "execution_count": 10,
   "metadata": {
    "execution": {
     "iopub.execute_input": "2025-05-29T15:45:10.710200Z",
     "iopub.status.busy": "2025-05-29T15:45:10.709914Z",
     "iopub.status.idle": "2025-05-29T15:45:10.731185Z",
     "shell.execute_reply": "2025-05-29T15:45:10.730742Z",
     "shell.execute_reply.started": "2025-05-29T15:45:10.710175Z"
    },
    "trusted": true
   },
   "outputs": [],
   "source": [
    "test_image_path = f\"{image_dir}/Strawberry Rhubarb Crumble Recipe.jpg\"\n",
    "test_vague_title = \"tart berry crumble\"\n",
    "messages_curr = messages.copy()\n",
    "test_img = Image.open(test_image_path)\n",
    "messages_curr.append({\n",
    "    \"role\": \"user\",\n",
    "    \"content\": [\n",
    "        {\"type\": \"image\", \"image\": test_img},\n",
    "        {\"type\": \"text\", \"text\": f'Vague Title: \"{test_vague_title}\"\\nInstruction:'}\n",
    "    ]\n",
    "})"
   ]
  },
  {
   "cell_type": "code",
   "execution_count": 11,
   "metadata": {
    "execution": {
     "iopub.execute_input": "2025-05-29T15:45:10.733045Z",
     "iopub.status.busy": "2025-05-29T15:45:10.732832Z",
     "iopub.status.idle": "2025-05-29T15:45:51.544197Z",
     "shell.execute_reply": "2025-05-29T15:45:51.543493Z",
     "shell.execute_reply.started": "2025-05-29T15:45:10.733030Z"
    },
    "trusted": true
   },
   "outputs": [
    {
     "name": "stdout",
     "output_type": "stream",
     "text": [
      "• **Prepare Fruit**: Slice berries (strawberries, raspberries, blackberries) and toss with sugar and lemon juice.\n",
      "• **Make Crumble**: Combine flour, oats, butter, brown sugar, and spices; cut into small pieces.\n",
      "• **Assemble & Bake**: Layer fruit in a baking dish, top with crumble mixture, and bake at 375°F for 30-40 min, until golden brown.\n"
     ]
    }
   ],
   "source": [
    "inputs = processor.apply_chat_template(\n",
    "    messages_curr, add_generation_prompt=True, tokenize=True,\n",
    "    return_dict=True, return_tensors=\"pt\"\n",
    ").to(model.device, dtype=torch.bfloat16)\n",
    "\n",
    "input_len = inputs[\"input_ids\"].shape[-1]\n",
    "\n",
    "with torch.inference_mode():\n",
    "    generation = model.generate(**inputs, max_new_tokens=1000, do_sample=True, top_p=0.8, top_k=45)\n",
    "    generation = generation[0][input_len:]\n",
    "\n",
    "decoded = processor.decode(generation, skip_special_tokens=True)\n",
    "print(decoded)"
   ]
  },
  {
   "cell_type": "markdown",
   "metadata": {},
   "source": [
    "# Live Example 1"
   ]
  },
  {
   "cell_type": "code",
   "execution_count": 12,
   "metadata": {
    "execution": {
     "iopub.execute_input": "2025-05-29T15:52:41.796271Z",
     "iopub.status.busy": "2025-05-29T15:52:41.795965Z",
     "iopub.status.idle": "2025-05-29T15:52:41.814139Z",
     "shell.execute_reply": "2025-05-29T15:52:41.813639Z",
     "shell.execute_reply.started": "2025-05-29T15:52:41.796251Z"
    },
    "trusted": true
   },
   "outputs": [],
   "source": [
    "test_image_path = f\"{image_dir}/Chef Johns Nashville Hot Chicken Recipe.jpg\"\n",
    "test_vague_title = \"fiery crunch pieces\"\n",
    "messages_curr = messages.copy()\n",
    "test_img = Image.open(test_image_path)\n",
    "messages_curr.append({\n",
    "    \"role\": \"user\",\n",
    "    \"content\": [\n",
    "        {\"type\": \"image\", \"image\": test_img},\n",
    "        {\"type\": \"text\", \"text\": f'Vague Title: \"{test_vague_title}\"\\nInstruction:'}\n",
    "    ]\n",
    "})"
   ]
  },
  {
   "cell_type": "code",
   "execution_count": 13,
   "metadata": {
    "execution": {
     "iopub.execute_input": "2025-05-29T15:52:42.119184Z",
     "iopub.status.busy": "2025-05-29T15:52:42.118857Z",
     "iopub.status.idle": "2025-05-29T15:53:24.591210Z",
     "shell.execute_reply": "2025-05-29T15:53:24.590450Z",
     "shell.execute_reply.started": "2025-05-29T15:52:42.119165Z"
    },
    "trusted": true
   },
   "outputs": [
    {
     "name": "stdout",
     "output_type": "stream",
     "text": [
      "• **Marinate Chicken**: Marinate chicken pieces in hot sauce, buttermilk, and spices for 30 min.\n",
      "• **Coat & Fry**: Coat chicken in cornstarch, deep fry until golden brown and crispy.\n",
      "• **Serve & Top**: Place fried chicken on brioche buns, top with pickles and hot sauce.\n"
     ]
    }
   ],
   "source": [
    "inputs = processor.apply_chat_template(\n",
    "    messages_curr, add_generation_prompt=True, tokenize=True,\n",
    "    return_dict=True, return_tensors=\"pt\"\n",
    ").to(model.device, dtype=torch.bfloat16)\n",
    "\n",
    "input_len = inputs[\"input_ids\"].shape[-1]\n",
    "\n",
    "with torch.inference_mode():\n",
    "    generation = model.generate(**inputs, max_new_tokens=1000, do_sample=True, top_p=0.8, top_k=45)\n",
    "    generation = generation[0][input_len:]\n",
    "\n",
    "decoded = processor.decode(generation, skip_special_tokens=True)\n",
    "print(decoded)"
   ]
  },
  {
   "cell_type": "markdown",
   "metadata": {},
   "source": [
    "# Live Example 2"
   ]
  },
  {
   "cell_type": "code",
   "execution_count": 14,
   "metadata": {
    "execution": {
     "iopub.execute_input": "2025-05-29T15:53:24.592738Z",
     "iopub.status.busy": "2025-05-29T15:53:24.592471Z",
     "iopub.status.idle": "2025-05-29T15:53:24.602038Z",
     "shell.execute_reply": "2025-05-29T15:53:24.601409Z",
     "shell.execute_reply.started": "2025-05-29T15:53:24.592720Z"
    },
    "trusted": true
   },
   "outputs": [],
   "source": [
    "test_image_path = f\"{image_dir}/Classic Macaroni Salad Recipe with Video.jpg\"\n",
    "test_vague_title = \"noodly salad\"\n",
    "messages_curr = messages.copy()\n",
    "test_img = Image.open(test_image_path)\n",
    "messages_curr.append({\n",
    "    \"role\": \"user\",\n",
    "    \"content\": [\n",
    "        {\"type\": \"image\", \"image\": test_img},\n",
    "        {\"type\": \"text\", \"text\": f'Vague Title: \"{test_vague_title}\"\\nInstruction:'}\n",
    "    ]\n",
    "})"
   ]
  },
  {
   "cell_type": "code",
   "execution_count": 15,
   "metadata": {
    "execution": {
     "iopub.execute_input": "2025-05-29T15:53:24.602871Z",
     "iopub.status.busy": "2025-05-29T15:53:24.602667Z",
     "iopub.status.idle": "2025-05-29T15:54:04.265441Z",
     "shell.execute_reply": "2025-05-29T15:54:04.264700Z",
     "shell.execute_reply.started": "2025-05-29T15:53:24.602856Z"
    },
    "trusted": true
   },
   "outputs": [
    {
     "name": "stdout",
     "output_type": "stream",
     "text": [
      "• **Cook Pasta**: Cook elbow macaroni according to package directions. Drain and rinse with cold water.\n",
      "• **Make Dressing**: Whisk together mayonnaise, relish, onion, celery, and spices.\n",
      "• **Combine**: Toss pasta with dressing and mix in chopped red peppers and ham. Chill before serving.\n"
     ]
    }
   ],
   "source": [
    "inputs = processor.apply_chat_template(\n",
    "    messages_curr, add_generation_prompt=True, tokenize=True,\n",
    "    return_dict=True, return_tensors=\"pt\"\n",
    ").to(model.device, dtype=torch.bfloat16)\n",
    "\n",
    "input_len = inputs[\"input_ids\"].shape[-1]\n",
    "\n",
    "with torch.inference_mode():\n",
    "    generation = model.generate(**inputs, max_new_tokens=1000, do_sample=True, top_p=0.8, top_k=45)\n",
    "    generation = generation[0][input_len:]\n",
    "\n",
    "decoded = processor.decode(generation, skip_special_tokens=True)\n",
    "print(decoded)"
   ]
  },
  {
   "cell_type": "markdown",
   "metadata": {},
   "source": [
    "# ROUGE Score"
   ]
  },
  {
   "cell_type": "code",
   "execution_count": 2,
   "metadata": {},
   "outputs": [
    {
     "name": "stdout",
     "output_type": "stream",
     "text": [
      "\n",
      "=== Predicted vs Original ROUGE Comparison ===\n",
      "Total matched recipes: 5\n",
      "\n",
      "Aggregate ROUGE Scores:\n",
      "ROUGE-1 : 0.506\n",
      "ROUGE-2 : 0.145\n",
      "ROUGE-L : 0.358\n",
      "\n",
      "=== Per-Recipe ROUGE Scores ===\n",
      "\n",
      "Dads Creamy Cucumber Salad Recipe.jpg:\n",
      "  Generated: • **Slice Cucumbers**: Slice cucumbers into ¼-inch thick rounds.\n",
      "• **Make Dressing**: Whisk together...\n",
      "  Reference: • **Salt & Drain**: Mix cucumbers and onion with salt; rest 15-30 min. Drain in colander until liqui...\n",
      "  ROUGE-1: 0.513\n",
      "  ROUGE-2: 0.263\n",
      "  ROUGE-L: 0.410\n",
      "\n",
      "Bang Bang Chicken Casserole Recipe.jpg:\n",
      "  Generated: • **Cook Chicken**: Dice chicken and cook in a skillet with soy sauce, ginger, and garlic until brow...\n",
      "  Reference: • **Brown Chicken**: Toss chicken with onion powder, Sriracha, soy sauce, garlic, and flour. Brown i...\n",
      "  ROUGE-1: 0.531\n",
      "  ROUGE-2: 0.144\n",
      "  ROUGE-L: 0.389\n",
      "\n",
      "Strawberry Rhubarb Crumble Recipe.jpg:\n",
      "  Generated: • **Prepare Fruit**: Slice berries (strawberries, raspberries, blackberries) and toss with sugar and...\n",
      "  Reference: • **Prepare Filling**: Preheat oven to 375°F. Toss strawberries and rhubarb with sugar, cornstarch, ...\n",
      "  ROUGE-1: 0.537\n",
      "  ROUGE-2: 0.113\n",
      "  ROUGE-L: 0.315\n",
      "\n",
      "Chef Johns Nashville Hot Chicken Recipe.jpg:\n",
      "  Generated: • **Marinate Chicken**: Marinate chicken pieces in hot sauce, buttermilk, and spices for 30 min.\n",
      "• *...\n",
      "  Reference: • **Marinate & Dredge**: Marinate chicken in buttermilk, brine, and hot sauce 2-4 hrs. Dredge twice ...\n",
      "  ROUGE-1: 0.408\n",
      "  ROUGE-2: 0.083\n",
      "  ROUGE-L: 0.306\n",
      "\n",
      "Classic Macaroni Salad Recipe with Video.jpg:\n",
      "  Generated: • **Cook Pasta**: Cook elbow macaroni according to package directions. Drain and rinse with cold wat...\n",
      "  Reference: • **Cook Pasta**: Boil elbow macaroni in lightly salted water until tender (~8 min), rinse under col...\n",
      "  ROUGE-1: 0.543\n",
      "  ROUGE-2: 0.133\n",
      "  ROUGE-L: 0.370\n"
     ]
    }
   ],
   "source": [
    "from utils import rouge\n",
    "\n",
    "rouge.calculate_rouge()"
   ]
  }
 ],
 "metadata": {
  "kaggle": {
   "accelerator": "nvidiaTeslaT4",
   "dataSources": [
    {
     "datasetId": 7528867,
     "sourceId": 11972518,
     "sourceType": "datasetVersion"
    },
    {
     "datasetId": 7530070,
     "sourceId": 11974137,
     "sourceType": "datasetVersion"
    }
   ],
   "dockerImageVersionId": 31041,
   "isGpuEnabled": true,
   "isInternetEnabled": true,
   "language": "python",
   "sourceType": "notebook"
  },
  "kernelspec": {
   "display_name": ".globalenv",
   "language": "python",
   "name": "python3"
  },
  "language_info": {
   "codemirror_mode": {
    "name": "ipython",
    "version": 3
   },
   "file_extension": ".py",
   "mimetype": "text/x-python",
   "name": "python",
   "nbconvert_exporter": "python",
   "pygments_lexer": "ipython3",
   "version": "3.12.3"
  }
 },
 "nbformat": 4,
 "nbformat_minor": 4
}
